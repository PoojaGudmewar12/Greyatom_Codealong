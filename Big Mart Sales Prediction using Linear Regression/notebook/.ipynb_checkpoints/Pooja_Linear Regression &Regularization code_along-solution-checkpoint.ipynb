{
 "cells": [
  {
   "cell_type": "markdown",
   "metadata": {},
   "source": [
    "## Big Mart Sales\n",
    "\n",
    "## Problem Statement\n",
    "\n",
    "The data scientists at BigMart have collected 2013 sales data for 1559 products across 10 stores in different cities. Also, certain attributes of each product and store have been defined. The aim is to build a predictive model and find out the sales of each product at a particular store.\n",
    "\n",
    "Using this model, BigMart will try to understand the properties of products and stores which play a key role in increasing sales.\n",
    "\n",
    "\n",
    "## About the DataSet :\n",
    "We have train (8523) and test (5681) data set, train data set has both input and output variable(s). You need to predict the sales for test data set.\n",
    "\n",
    "|Features|Description|\n",
    "|-----|-----|\n",
    "|Item_Identifier|Unique product ID|\n",
    "|Item_MRP|Maximum Retail Price (list price) of the product|\n",
    "|Item_Type|The category to which the product belongs|\n",
    "|Item_Outlet_Sales|Sales of the product in the particular store. This is the outcome variable to be predicted.|\n",
    "|Item_Type|The category to which the product belongs|\n",
    "|Item_Visibility|The % of total display area of all products in a store allocated to the particular product|\n",
    "|Item_Weight|Weight of product|\n",
    "|Outlet_Establishment_Year|The year in which store was established|\n",
    "|source|is it a train data or test data point|\n",
    "|Item_Fat_Content|Whether the product is low fat or not|\n",
    "|Outlet_Location_Type|The type of city in which the store is located|\n",
    "|Outlet_Size|The size of the store in terms of ground area covered|\n",
    "|Outlet_Type|Whether the outlet is just a grocery store or some sort of supermarket|\n",
    "|Outlet_Identifier|Unique store ID|\n"
   ]
  },
  {
   "cell_type": "code",
   "execution_count": 2,
   "metadata": {},
   "outputs": [],
   "source": [
    "import pandas as pd\n",
    "import numpy as np\n",
    "from matplotlib import pyplot as plt\n",
    "from sklearn.metrics import r2_score, mean_squared_error\n",
    "from sklearn.model_selection import train_test_split\n",
    "import warnings\n",
    "warnings.filterwarnings(\"ignore\")"
   ]
  },
  {
   "cell_type": "markdown",
   "metadata": {},
   "source": [
    "### Load the data"
   ]
  },
  {
   "cell_type": "code",
   "execution_count": 3,
   "metadata": {},
   "outputs": [],
   "source": [
    "sales_data=pd.read_csv(\"../data/sales.csv\")"
   ]
  },
  {
   "cell_type": "code",
   "execution_count": null,
   "metadata": {},
   "outputs": [],
   "source": []
  }
 ],
 "metadata": {
  "kernelspec": {
   "display_name": "Python 3",
   "language": "python",
   "name": "python3"
  },
  "language_info": {
   "codemirror_mode": {
    "name": "ipython",
    "version": 3
   },
   "file_extension": ".py",
   "mimetype": "text/x-python",
   "name": "python",
   "nbconvert_exporter": "python",
   "pygments_lexer": "ipython3",
   "version": "3.7.6"
  }
 },
 "nbformat": 4,
 "nbformat_minor": 4
}
